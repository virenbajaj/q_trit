{
 "cells": [
  {
   "cell_type": "code",
   "execution_count": 4,
   "metadata": {
    "collapsed": false
   },
   "outputs": [],
   "source": [
    "# Aim: For a pcubed qubit input output channel compute the maximized coherent information \n",
    "#     using scipy local optimization techniques.\n",
    "#     Outputs files containing dictonary(pickled) of list of nodes, each of which contains the fields:\n",
    "#         b \n",
    "#         c \n",
    "#         Q1  \n",
    "#         Optimized Density \n",
    "#         Distance (Shatten 1 Norm)\n",
    "#         Eigen values  \n",
    "#         Eigen vectors\n",
    "        \n",
    "# Author: Viren Bajaj,\n",
    "#        Department of Physics,\n",
    "#        Carnegie Mellon University,\n",
    "#        Pittsburgh PA, USA\n",
    "# Adapted from Vikesh Siddhu's file: pcubeOpt\n",
    "# Date : 29 Nov'17"
   ]
  },
  {
   "cell_type": "code",
   "execution_count": 1,
   "metadata": {
    "collapsed": false
   },
   "outputs": [],
   "source": [
    "from util import *\n",
    "import numpy as np\n",
    "import time as time\n",
    "\n"
   ]
  },
  {
   "cell_type": "code",
   "execution_count": 2,
   "metadata": {
    "collapsed": false,
    "scrolled": true
   },
   "outputs": [
    {
     "name": "stdout",
     "output_type": "stream",
     "text": [
      "hello\n",
      "oo\n",
      "optimized for c =  -0.4 time taken =  228.400840044\n",
      "oo\n",
      "optimized for c =  -0.291666666667 time taken =  220.772383928\n",
      "oo\n",
      "optimized for c =  -0.183333333333 time taken =  183.885848999\n",
      "oo\n",
      "optimized for c =  -0.075 time taken =  232.169840097\n",
      "oo\n",
      "optimized for c =  0.0333333333333 time taken =  227.586475134\n",
      "oo\n",
      "optimized for c =  0.141666666667 time taken =  246.123805046\n",
      "oo\n",
      "optimized for c =  0.25 time taken =  240.755650997\n",
      "oo\n",
      "optimized for c =  0.358333333333 time taken =  211.806278944\n",
      "oo\n",
      "optimized for c =  0.466666666667 time taken =  191.859876871\n",
      "oo\n",
      "optimized for c =  0.575 time taken =  225.799588919\n",
      "oo\n",
      "optimized for c =  0.683333333333 time taken =  236.786321878\n",
      "oo\n",
      "optimized for c =  0.791666666667 time taken =  201.664392948\n",
      "oo\n",
      "optimized for c =  0.9 time taken =  203.618479967\n",
      "2851.27808785\n"
     ]
    }
   ],
   "source": [
    "totTStart = time.time()\n",
    "printT = 0 \n",
    "d = {}\n",
    "totC = 13\n",
    "cRange= np.linspace(-.4,.9,totC)\n",
    "print \"hello\"\n",
    "for c in cRange:\n",
    "    print \"oo\"\n",
    "    cTStart = time.time()\n",
    "    bRange = calcBRange(c,totC)\n",
    "    cStr = str(round(c,4))\n",
    "    key = hash(cStr)\n",
    "    bListTemp = []\n",
    "    for b in bRange:\n",
    "        node = Node(b,c)\n",
    "        node.optimize()\n",
    "        bListTemp.append(node)\n",
    "    d[key] = bListTemp\n",
    "    printTStart = time.time()\n",
    "    cTEnd = time.time()\n",
    "    print \"optimized for c = \",c, \"time taken = \", cTEnd-cTStart\n",
    "    printT += (time.time()-printTStart)\n",
    "\n",
    "totT = time.time() - totTStart\n",
    "totOptT = totT - printT\n",
    "print totOptT"
   ]
  },
  {
   "cell_type": "code",
   "execution_count": 3,
   "metadata": {
    "collapsed": true
   },
   "outputs": [],
   "source": [
    "save_obj(d,\"optVarDict\")"
   ]
  },
  {
   "cell_type": "code",
   "execution_count": null,
   "metadata": {
    "collapsed": false,
    "scrolled": true
   },
   "outputs": [],
   "source": []
  }
 ],
 "metadata": {
  "anaconda-cloud": {},
  "kernelspec": {
   "display_name": "Python [Root]",
   "language": "python",
   "name": "Python [Root]"
  },
  "language_info": {
   "codemirror_mode": {
    "name": "ipython",
    "version": 2
   },
   "file_extension": ".py",
   "mimetype": "text/x-python",
   "name": "python",
   "nbconvert_exporter": "python",
   "pygments_lexer": "ipython2",
   "version": "2.7.12"
  }
 },
 "nbformat": 4,
 "nbformat_minor": 0
}
