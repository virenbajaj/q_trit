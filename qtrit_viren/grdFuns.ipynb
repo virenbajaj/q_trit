{
 "cells": [
  {
   "cell_type": "code",
   "execution_count": 2,
   "metadata": {
    "collapsed": false
   },
   "outputs": [],
   "source": [
    "import qinfFun as fn\n",
    "import numpy as np\n",
    "import scipy.linalg as sclin"
   ]
  },
  {
   "cell_type": "code",
   "execution_count": 3,
   "metadata": {
    "collapsed": false
   },
   "outputs": [],
   "source": [
    "def getMat(x,d):\n",
    "    \"\"\"\n",
    "    getMax(1-d numpy array, int) --> 2-d numpy array\n",
    "    \n",
    "    Takes as input a vector and dimension of matrix, returns the\n",
    "    PSD matrix constructed by putting the vector on an upper triangular matrix A \n",
    "    and returning A.A^\\dag\n",
    "    \n",
    "    Arguments:\n",
    "        x :  A 1-d numpy array of length d*d\n",
    "        d :  Dimension of the underlying hilbert space\n",
    "        \n",
    "    Returns\n",
    "        mt : A 2-d numpy array of shape (d,d)\n",
    "        \n",
    "    Quirk: Does not check whether the dimesion of x and d are consistent\n",
    "\n",
    "    \"\"\"\n",
    "    qqupsR = np.zeros((d,d))\n",
    "    qqupsC = np.zeros((d,d))\n",
    "    \n",
    "    indR = np.triu_indices(d)\n",
    "    indC = np.triu_indices(d, k = 1)\n",
    "    \n",
    "    r = (d*d + d)/2\n",
    "    real = x[:r]\n",
    "    ima = x[r:]\n",
    "\n",
    "    qqupsR[indR] = real\n",
    "    qqupsC[indC] = ima\n",
    "\n",
    "    qqups = qqupsR + 1j*qqupsC\n",
    "\n",
    "    mt = qqups.dot(qqups.conj().T)\n",
    "    return mt"
   ]
  },
  {
   "cell_type": "code",
   "execution_count": null,
   "metadata": {
    "collapsed": false
   },
   "outputs": [],
   "source": []
  },
  {
   "cell_type": "code",
   "execution_count": 3,
   "metadata": {
    "collapsed": false
   },
   "outputs": [],
   "source": [
    "#Helper function for nnba, takes parameters prm and returns a matrix whose\n",
    "#columns are vectors that constitute the gram matrix [[1,prm,prm],[prm,1,prm],[prm,prm,1]]\n",
    "#Tested: YES\n",
    "def gramVec(prm):\n",
    "    \"\"\"\n",
    "    gramVec(float) --> 2-d numpy array\n",
    "    \n",
    "    Helper function for nnba the channel super-operator function for\n",
    "    qutrit pcubed channel\n",
    "    \n",
    "    Arguments\n",
    "        prm : A float that defined the equal off\n",
    "    \n",
    "    Returns:\n",
    "        vecMat : A 2-d numpy array, whose columns represent vectors that give\n",
    "                 the equal off-diagonal gram matrix. See eq(60) in\n",
    "                 https://arxiv.org/pdf/1511.05532.pdf\n",
    "    \"\"\"\n",
    "    vecMat = np.array([[np.sqrt((1. + 2*prm)/3.), np.sqrt((1. + 2*prm)/3.), np.sqrt((1. + 2*prm)/3.)],\n",
    "                        [-np.sqrt((1. - prm)/2.), np.sqrt((1. - prm)/2.), 0.],\n",
    "                        [-np.sqrt((1. - prm)/6.), -np.sqrt((1. - prm)/6.), np.sqrt(2*(1. - prm)/3.)]]\n",
    "                )\n",
    "    vecMatNew = np.array( \n",
    "                    [[prm*np.sqrt(2/(1-prm**2)), sqrt(1-3*)],\n",
    "                     [],\n",
    "                     []]\n",
    "                )\n",
    "    return vecMat"
   ]
  },
  {
   "cell_type": "code",
   "execution_count": 4,
   "metadata": {
    "collapsed": false
   },
   "outputs": [],
   "source": [
    "#Takes as input, the vector of values that defines the input density operator\n",
    "#and the parameters that define the channel, returns density operator on the b and c side\n",
    "def nnba(x, prm):\n",
    "    \"\"\"\n",
    "    nnba(1-d numpy array, list) --> (2-d numpy array, 2-d numpy array)\n",
    "    \n",
    "    Quantum Channel function, takes a vector and gives the\n",
    "    direct and complementary channel output for the qutrit pcubed channel\n",
    "    see eq. (63) in https://arxiv.org/pdf/1511.05532.pdf\n",
    "    \n",
    "    Arguments\n",
    "        x   : A 1-d numpy array used to representing a density operator\n",
    "              using the A.A^dag form\n",
    "        prm : (b,c) list of two floats representing off-diagonal terms in\n",
    "                eq (58) of https://arxiv.org/pdf/1511.05532.pdf\n",
    "    Returns\n",
    "        (rhoB, rhoC) where rhoB is the direct channel output and rhoC is\n",
    "        the complementary\n",
    "    \n",
    "    \"\"\"\n",
    "    (b,c) = prm\n",
    "    \n",
    "    #The Gram matrices B, C and A\n",
    "    bbq = np.array([[1., b, b], [b, 1., b], [b, b, 1.]])\n",
    "    ccq = np.array([[1., c, c], [c, 1., c], [c, c, 1.]])\n",
    "    aaq = np.multiply(bbq,ccq)\n",
    "    \n",
    "    (row, col) = np.shape(aaq)\n",
    "    rho = getMat(x,row)\n",
    "\n",
    "    #The Gram vectors for B, C and A gram matrices\n",
    "    mmup = gramVec(b)\n",
    "    nnup = gramVec(c)\n",
    "    llup = gramVec(c*b)\n",
    "\n",
    "    #Inverse of the gram vector matrix\n",
    "    lbup = sclin.inv(llup)\n",
    "         \n",
    "    #Output matrices based on the pcubed formalism\n",
    "    mtB     = np.multiply(ccq, lbup.dot(rho).dot(lbup.conj().T))  \n",
    "    rhoB    = mmup.dot(mtB).dot(mmup.conj().T)           \n",
    " \n",
    "    mtC     = np.multiply(bbq, lbup.dot(rho).dot(lbup.conj().T))  \n",
    "    rhoC    = nnup.dot(mtC).dot(nnup.conj().T)           \n",
    "    return (rhoB, rhoC)"
   ]
  },
  {
   "cell_type": "code",
   "execution_count": 5,
   "metadata": {
    "collapsed": false
   },
   "outputs": [],
   "source": [
    "def entOut(x, prm):\n",
    "    \"\"\"\n",
    "    entOut(1-d numpy array, list of length 2) --> list of length 2\n",
    "    \n",
    "    Takes as input, the vector of values that defines the input density operator\n",
    "    and the parameters that define the channel, returns the entropy on the b and c side \n",
    "    \n",
    "    Arguments:\n",
    "        x   : A 1-d numpy array used to representing a density operator\n",
    "              using the A.A^dag form\n",
    "        prm : (b,c) list of two floats representing off-diagonal terms in\n",
    "                eq (58) of https://arxiv.org/pdf/1511.05532.pdf\n",
    "    \n",
    "    Returns:\n",
    "        (SB, SC) the entropy on the B and C side of the channel\n",
    "    \"\"\"\n",
    "    (rhoB, rhoC) = nnba(x, prm)\n",
    "    entb = fn.entroVon(rhoB)\n",
    "    entc = fn.entroVon(rhoC)\n",
    "    return (entb, entc)"
   ]
  },
  {
   "cell_type": "code",
   "execution_count": null,
   "metadata": {
    "collapsed": true
   },
   "outputs": [],
   "source": []
  },
  {
   "cell_type": "code",
   "execution_count": 6,
   "metadata": {
    "collapsed": false
   },
   "outputs": [],
   "source": [
    "def entBias(x, *prm):\n",
    "    \"\"\"\n",
    "    entBias(1-d numpy array, list of length 2) --> float\n",
    "    \n",
    "    Takes as input, the vector of values that define the input density operator\n",
    "    and parameters that defines the channels, returns the entropy bias\n",
    "    \n",
    "    Arguments:\n",
    "        x   : A 1-d numpy array used to representing a density operator\n",
    "              using the A.A^dag form\n",
    "        prm : (b,c) list of two floats representing off-diagonal terms in\n",
    "                eq (58) of https://arxiv.org/pdf/1511.05532.pdf\n",
    "    \n",
    "    Returns:\n",
    "        S(C) - S(B) the entropy difference \n",
    "    \"\"\"\n",
    "    x = x/(np.linalg.norm(x))\n",
    "    (entb, entc) = entOut(x, prm)\n",
    "    return entc - entb"
   ]
  },
  {
   "cell_type": "code",
   "execution_count": null,
   "metadata": {
    "collapsed": true
   },
   "outputs": [],
   "source": []
  }
 ],
 "metadata": {
  "anaconda-cloud": {},
  "kernelspec": {
   "display_name": "Python [Root]",
   "language": "python",
   "name": "Python [Root]"
  },
  "language_info": {
   "codemirror_mode": {
    "name": "ipython",
    "version": 2
   },
   "file_extension": ".py",
   "mimetype": "text/x-python",
   "name": "python",
   "nbconvert_exporter": "python",
   "pygments_lexer": "ipython2",
   "version": "2.7.12"
  }
 },
 "nbformat": 4,
 "nbformat_minor": 0
}
