{
 "cells": [
  {
   "cell_type": "code",
   "execution_count": 3,
   "metadata": {
    "collapsed": false
   },
   "outputs": [],
   "source": [
    "#Aim: For a pcubed qubit input output channel compute the maximized coherent information \n",
    "#     using scipy local optimization techniques.\n",
    "#     Print files containing lists\n",
    "#           1. (b, c, Q(1))\n",
    "#           2. (b, c, rho_opt)\n",
    "#Author: Vikesh Siddhu,\n",
    "#        Department of Physics,\n",
    "#        Carnegie Mellon University,\n",
    "#        Pittsburgh PA, USA\n",
    "#Date : 25th Sept'17\n"
   ]
  },
  {
   "cell_type": "code",
   "execution_count": 5,
   "metadata": {
    "collapsed": false
   },
   "outputs": [
    {
     "name": "stdout",
     "output_type": "stream",
     "text": [
      "[[ 1.  0.  0.]\n",
      " [ 0.  1.  0.]\n",
      " [ 0.  0.  1.]]\n"
     ]
    }
   ],
   "source": [
    "import qinfFun as fn\n",
    "import grdFuns as inpSc\n",
    "\n",
    "import numpy as np\n",
    "import scipy.stats as scstat\n",
    "import scipy.linalg as sclin\n",
    "import time as time\n",
    "import scipy.optimize\n",
    "from scipy.optimize import minimize\n",
    "from scipy.optimize import differential_evolution\n",
    "from tabulate import tabulate\n",
    "from astropy.table import Table\n"
   ]
  },
  {
   "cell_type": "code",
   "execution_count": 16,
   "metadata": {
    "collapsed": false
   },
   "outputs": [],
   "source": [
    "#from http://www.kosbie.net/cmu/fall-14/15-112/notes/file-and-web-io.py\n",
    "def writeFile(filename, contents, mode=\"wt\"):\n",
    "    # wt = \"write text\"\n",
    "    with open(filename, mode) as fout:\n",
    "        fout.write(contents)\n",
    "\n",
    "def readFile(filename, mode=\"rt\"):\n",
    "    # rt = \"read text\"\n",
    "    with open(filename, mode) as fin:\n",
    "        return fin.read()"
   ]
  },
  {
   "cell_type": "code",
   "execution_count": 17,
   "metadata": {
    "collapsed": false
   },
   "outputs": [],
   "source": [
    "tStart = time.time()\n",
    "qlst = []\n",
    "cVals = []\n",
    "bVals = []\n",
    "rhoOpt = []"
   ]
  },
  {
   "cell_type": "code",
   "execution_count": 18,
   "metadata": {
    "collapsed": false
   },
   "outputs": [],
   "source": [
    "c = -0.5\n",
    "d = 3\n",
    "bMin = -c/2.\n",
    "bMax = -2.*c\n",
    "totalB = 2\n",
    "stepB = (bMax - bMin)/totalB\n"
   ]
  },
  {
   "cell_type": "code",
   "execution_count": 19,
   "metadata": {
    "collapsed": false
   },
   "outputs": [
    {
     "name": "stdout",
     "output_type": "stream",
     "text": [
      "done\n"
     ]
    }
   ],
   "source": [
    "for run in xrange(0,totalB):\n",
    "    b = bMin + stepB*run\n",
    "    prm = (b, c)\n",
    "    \n",
    "    #Minimize the entropy difference S(C) - S(B) to obtain a maximum for \n",
    "    #S(B) - S(C)\n",
    "    no = int(d*d)\n",
    "    bounds = [(-1,1)]*no\n",
    "    resG = differential_evolution(inpSc.entBias, bounds, args = prm, popsize = 40, disp = False)\n",
    "\n",
    "    xOpt = resG.x\n",
    "    xOpt = xOpt/(np.linalg.norm(xOpt))\n",
    "\n",
    "    #Refine the global optimization by performing a second local optimizaiton\n",
    "    x0 = xOpt\n",
    "\n",
    "    res = minimize(inpSc.entBias, x0, args = prm, method='BFGS', options={'disp': False})\n",
    "    xOpt = res.x\n",
    "    xOpt = xOpt/(np.linalg.norm(xOpt))\n",
    "    rhoOp = inpSc.getMat(xOpt, d)\n",
    "    opQ = -res.fun\n",
    "\n",
    "#Put the Q(1)'s in a list and write them to a file as tables\n",
    "    qlst += [(b, c, opQ)]\n",
    "\n",
    "#Put the (b, c, rho_alg, rho_opt) in columns of bVals, cVals... and\n",
    "\n",
    "    bVals += [b]\n",
    "    cVals += [c]\n",
    "    rhoOpt += [rhoOp]\n"
   ]
  },
  {
   "cell_type": "code",
   "execution_count": 20,
   "metadata": {
    "collapsed": false
   },
   "outputs": [
    {
     "name": "stdout",
     "output_type": "stream",
     "text": [
      "58.7896659374\n"
     ]
    }
   ],
   "source": [
    "#Write Stuff\n",
    "table =  tabulate(qlst, headers = ['b', 'c', 'Q(1)']) + '\\n'\n",
    "filename1 = 'resXTable.txt'\n",
    "writeFile(filename1, table, mode = 'a')\n",
    "\n",
    "filename2 = 'resQX'\n",
    "np.savez(filename2, qlst = qlst)\n",
    "\n",
    "#Add bVals, cVals, rhoAls, rhoOpt to an astro table, write this table to a file\n",
    "tab = [bVals, cVals, rhoOpt]\n",
    "table = Table(tab, names = ['b', 'c', 'rho_Opt'])\n",
    "\n",
    "table.write('resMX.hdf5', path ='/data')\n",
    "\n",
    "tEnd = time.time()\n",
    "\n",
    "print -tStart + tEnd"
   ]
  },
  {
   "cell_type": "code",
   "execution_count": null,
   "metadata": {
    "collapsed": true
   },
   "outputs": [],
   "source": []
  }
 ],
 "metadata": {
  "anaconda-cloud": {},
  "kernelspec": {
   "display_name": "Python [Root]",
   "language": "python",
   "name": "Python [Root]"
  },
  "language_info": {
   "codemirror_mode": {
    "name": "ipython",
    "version": 2
   },
   "file_extension": ".py",
   "mimetype": "text/x-python",
   "name": "python",
   "nbconvert_exporter": "python",
   "pygments_lexer": "ipython2",
   "version": "2.7.12"
  }
 },
 "nbformat": 4,
 "nbformat_minor": 0
}
