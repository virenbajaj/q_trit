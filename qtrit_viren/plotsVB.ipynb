{
 "cells": [
  {
   "cell_type": "code",
   "execution_count": 1,
   "metadata": {
    "collapsed": false
   },
   "outputs": [
    {
     "name": "stderr",
     "output_type": "stream",
     "text": [
      "//anaconda/lib/python2.7/site-packages/matplotlib/font_manager.py:273: UserWarning: Matplotlib is building the font cache using fc-list. This may take a moment.\n",
      "  warnings.warn('Matplotlib is building the font cache using fc-list. This may take a moment.')\n"
     ]
    }
   ],
   "source": [
    "import h5py\n",
    "import numpy as np\n",
    "import matplotlib.pyplot as plt"
   ]
  },
  {
   "cell_type": "code",
   "execution_count": 5,
   "metadata": {
    "collapsed": false
   },
   "outputs": [
    {
     "name": "stdout",
     "output_type": "stream",
     "text": [
      "dist vs b for c = -0.5\n",
      "dist vs b for c = -0.4\n",
      "dist vs b for c = -0.3\n",
      "dist vs b for c = -0.2\n"
     ]
    }
   ],
   "source": [
    "cRange= np.linspace(-.5,1.,15)\n",
    "\n",
    "for c in cRange[:4]:\n",
    "    if c<=0:\n",
    "        bMin = c\n",
    "        bMax = -c/2.\n",
    "    elif c <= .5 and c > 0:\n",
    "        bMin = -c/2.\n",
    "        bMax = c\n",
    "    elif c >.5:\n",
    "        bMin = -c/2.\n",
    "        bMax = .5\n",
    "    bRange = np.linspace(bMin,bMax,10)\n",
    "    cStr = round(c,1)\n",
    "    filename = 'dTable_{}.hdf5'.format(cStr)\n",
    "    f = h5py.File(filename, 'r')\n",
    "\n",
    "    # List all groups\n",
    "    #print(\"Keys: %s\" % f.keys())\n",
    "    a_group_key = list(f.keys())[0]\n",
    "\n",
    "    # Get the data\n",
    "    data = list(f[a_group_key])\n",
    "    bVals = np.array([itm[1] for itm in data])\n",
    "    dVals = np.array([itm[2] for itm in data])\n",
    "    \n",
    "    bMin = min(bVals) - 1.\n",
    "    bMax = max(bVals) + 1.\n",
    "    dMax = max(dVals) + 1.  \n",
    "    \n",
    "    #begin figure and plot\n",
    "    fig = plt.figure()\n",
    "\n",
    "    #make x,y axis\n",
    "    # plt.plot((-1.,0.5),(0,0),'k--')\n",
    "    # plt.plot((0,0),(-1.0,1.0),'k--')\n",
    "    plt.xlabel('b', fontsize=15)\n",
    "    plt.ylabel('dist', fontsize=15)\n",
    "    plt.xlim(bMin,bMax)\n",
    "    plt.ylim(-1.,dMax)\n",
    "    plt.plot(bVals,dVals,\"o\")\n",
    "    #title\n",
    "    title = 'dist vs b for c = {0}'.format(cStr)\n",
    "    print title              \n",
    "    fig.suptitle(title, fontsize=20)\n",
    "    # plt.show()\n",
    "    \n",
    "    title1 = \"dVsb1_{}.png\".format(cStr)\n",
    "    fig.savefig(title1)"
   ]
  },
  {
   "cell_type": "code",
   "execution_count": null,
   "metadata": {
    "collapsed": false
   },
   "outputs": [],
   "source": []
  },
  {
   "cell_type": "code",
   "execution_count": null,
   "metadata": {
    "collapsed": true
   },
   "outputs": [],
   "source": []
  }
 ],
 "metadata": {
  "anaconda-cloud": {},
  "kernelspec": {
   "display_name": "Python [Root]",
   "language": "python",
   "name": "Python [Root]"
  },
  "language_info": {
   "codemirror_mode": {
    "name": "ipython",
    "version": 2
   },
   "file_extension": ".py",
   "mimetype": "text/x-python",
   "name": "python",
   "nbconvert_exporter": "python",
   "pygments_lexer": "ipython2",
   "version": "2.7.12"
  }
 },
 "nbformat": 4,
 "nbformat_minor": 0
}
