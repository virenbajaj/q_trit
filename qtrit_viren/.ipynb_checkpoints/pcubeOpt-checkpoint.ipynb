{
 "metadata": {
  "name": "",
  "signature": "sha256:7afbe89148d10e25de171c8bd6fb04d735f6d155ed297ea27ad654e0423e6bc5"
 },
 "nbformat": 3,
 "nbformat_minor": 0,
 "worksheets": []
}